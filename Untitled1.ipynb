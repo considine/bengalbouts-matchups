{
 "cells": [
  {
   "cell_type": "code",
   "execution_count": 1,
   "metadata": {
    "collapsed": true
   },
   "outputs": [],
   "source": [
    "import pandas as pd\n"
   ]
  },
  {
   "cell_type": "code",
   "execution_count": 2,
   "metadata": {
    "collapsed": false
   },
   "outputs": [
    {
     "data": {
      "text/plain": [
       "'ccreeden@nd.edu,Joaquin Camara, Mike Kappaz, Conor Ward, Alex Alcantara, Chip Blood, Joe Guilfoile, Joey Quinones, Gio Lincon, Paddy Lawler, Jack McDermott, Jack Corrigan, Chris Harrington, Jack Ryan, Dan Andree, Jack Considine, Aaron Bode, Erich Jegier, Ryan Richelsen, , bfUbUdztELuFhSavMPdycslnd,1488169043\\nrganson@nd.edu,Chris Dethlefs, Mike Kappaz, Matt Yoder, Alex Alcantara, Chip Blood, Alex Roth, Joey Quinones, Garrett Schmelling, Paddy Lawler, Jack McDermott, Jack Corrigan, Chris Harrington, Cameron Nolan, Isaac Althoff, Jack Considine, Aaron Bode, Pat Gordon, Jackson Wrede, , GEj8UrxsuOcMR1DqjJbtLQfFq,1488169201\\ncconaty2@nd.edu,Joaquin Camara, Mike Kappaz, Matt Yoder, Alex Alcantara, Chip Blood, Joe Guilfoile, Joey Quinones, Garrett Schmelling, Sean Flynn, Danny Childers, Jack Corrigan, Jack Shepard, Jack Ryan, Dan Andree, Jack Considine, Aaron Bode, Erich Jegier, Ryan Richelsen, , MWK7T71EhdnjVZ3E1xHkHbOm7,1488169214\\n\\n'"
      ]
     },
     "execution_count": 2,
     "metadata": {},
     "output_type": "execute_result"
    }
   ],
   "source": [
    "dat_f = open('misc/txtfile.txt', 'r')\n",
    "dat = dat_f.read()\n",
    "dat"
   ]
  },
  {
   "cell_type": "code",
   "execution_count": 31,
   "metadata": {
    "collapsed": false
   },
   "outputs": [],
   "source": [
    "import subprocess\n",
    "dat.split(\"\\n\")\n",
    "subj = \"Your BB Semifinal Picks!\"\n",
    "mes = \"Here are your picks: \"\n",
    "for item in dat.split(\"\\n\"):\n",
    "    if not len(item.split(\",\")) > 1:\n",
    "        continue\n",
    "    l = item.split(\",\")\n",
    "    mail = l[0]\n",
    "    del l[0]\n",
    "    my_mes = mes + \"\\n\"\n",
    "    it = 0\n",
    "    for item in l:\n",
    "        if item == \" \":\n",
    "            break\n",
    "        it+=1\n",
    "        my_mes+= item + \"\\n\"\n",
    "        \n",
    "    \n",
    "    my_mes += \"And your verification code is: \" + l[it+1] +\"\\n\"\n",
    "    my_mes += \"Please save this email/ code to be eligible to win the gloves!\"\n",
    "    subprocess.call([\"python\", \"scripts/e4.py\", subj, my_mes, mail])\n",
    "\n",
    "    "
   ]
  },
  {
   "cell_type": "code",
   "execution_count": null,
   "metadata": {
    "collapsed": true
   },
   "outputs": [],
   "source": []
  },
  {
   "cell_type": "code",
   "execution_count": null,
   "metadata": {
    "collapsed": true
   },
   "outputs": [],
   "source": []
  }
 ],
 "metadata": {
  "kernelspec": {
   "display_name": "Python [Root]",
   "language": "python",
   "name": "Python [Root]"
  },
  "language_info": {
   "codemirror_mode": {
    "name": "ipython",
    "version": 2
   },
   "file_extension": ".py",
   "mimetype": "text/x-python",
   "name": "python",
   "nbconvert_exporter": "python",
   "pygments_lexer": "ipython2",
   "version": "2.7.11"
  }
 },
 "nbformat": 4,
 "nbformat_minor": 0
}
